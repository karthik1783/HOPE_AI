{
 "cells": [
  {
   "cell_type": "code",
   "execution_count": 1,
   "id": "4e508c1b-1e61-460e-bff7-cb321caa959c",
   "metadata": {},
   "outputs": [
    {
     "name": "stdout",
     "output_type": "stream",
     "text": [
      "Welcome to Python learning journey...\n"
     ]
    }
   ],
   "source": [
    "print(\"Welcome to Python learning journey...\")"
   ]
  },
  {
   "cell_type": "code",
   "execution_count": 3,
   "id": "db3e0b72-8b6c-4f78-a96d-96c257213219",
   "metadata": {},
   "outputs": [
    {
     "name": "stdout",
     "output_type": "stream",
     "text": [
      "Testing purpose\n"
     ]
    }
   ],
   "source": [
    "print(\"Testing purpose\");"
   ]
  },
  {
   "cell_type": "markdown",
   "id": "821b9615-f188-4ba0-b179-e01fcd35e2d8",
   "metadata": {},
   "source": [
    "After taking test - Checking the print statement with single quote"
   ]
  },
  {
   "cell_type": "code",
   "execution_count": 3,
   "id": "f777ffea-c337-446f-a985-7798d86d94bb",
   "metadata": {},
   "outputs": [
    {
     "name": "stdout",
     "output_type": "stream",
     "text": [
      "Test...\n"
     ]
    }
   ],
   "source": [
    "print('Test...')"
   ]
  },
  {
   "cell_type": "code",
   "execution_count": 19,
   "id": "bffe89ea-b809-4792-a201-ea4df26b9606",
   "metadata": {},
   "outputs": [
    {
     "name": "stdout",
     "output_type": "stream",
     "text": [
      "12.35\n"
     ]
    }
   ],
   "source": [
    "value = 12.34567\n",
    "rounded_value = round(value, 2)\n",
    "print(rounded_value)"
   ]
  },
  {
   "cell_type": "code",
   "execution_count": 23,
   "id": "6ae986d6-b998-4296-9f3f-743a48ca59cf",
   "metadata": {},
   "outputs": [
    {
     "name": "stdout",
     "output_type": "stream",
     "text": [
      "a= 7\n",
      "b= 3\n",
      "Division= 1\n"
     ]
    }
   ],
   "source": [
    "a=7\n",
    "b=3\n",
    "division=(a%b)\n",
    "print(\"a=\", a)\n",
    "print(\"b=\", b)\n",
    "print(\"Division=\", division)"
   ]
  },
  {
   "cell_type": "code",
   "execution_count": null,
   "id": "223db8b5-addc-4baa-8c32-02e6f07878f2",
   "metadata": {},
   "outputs": [],
   "source": []
  }
 ],
 "metadata": {
  "kernelspec": {
   "display_name": "Python [conda env:base] *",
   "language": "python",
   "name": "conda-base-py"
  },
  "language_info": {
   "codemirror_mode": {
    "name": "ipython",
    "version": 3
   },
   "file_extension": ".py",
   "mimetype": "text/x-python",
   "name": "python",
   "nbconvert_exporter": "python",
   "pygments_lexer": "ipython3",
   "version": "3.12.7"
  }
 },
 "nbformat": 4,
 "nbformat_minor": 5
}
