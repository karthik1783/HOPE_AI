{
 "cells": [
  {
   "cell_type": "markdown",
   "id": "73ed4ce0-5f90-4ace-82b2-af3c5af7b9c2",
   "metadata": {},
   "source": [
    "@auhto:Karthik"
   ]
  },
  {
   "cell_type": "markdown",
   "id": "fac427b0-ddcb-472f-81b1-513cf87da473",
   "metadata": {},
   "source": [
    "# Function - to do a particular task/procedure"
   ]
  },
  {
   "cell_type": "code",
   "execution_count": 11,
   "id": "aaee7c5d-7520-4c62-86ae-bb6cd4180cf4",
   "metadata": {},
   "outputs": [
    {
     "name": "stdout",
     "output_type": "stream",
     "text": [
      "You are a minor child...\n",
      "You are a Senior Citizen...\n",
      "You are an Adult...\n",
      "You are a Citizen...\n",
      "You are a Citizen...\n"
     ]
    }
   ],
   "source": [
    "# Sample function without return value\n",
    "ageLists=[10,60,25,38,48]\n",
    "def findAgeCategory():\n",
    "    # Function body/task/procedure/formula\n",
    "    for age in ageLists:\n",
    "        if(age<18):\n",
    "             print(\"You are a minor child...\")\n",
    "        elif(age<35):\n",
    "            print(\"You are an Adult...\")\n",
    "        elif(age<55):\n",
    "            print(\"You are a Citizen...\")\n",
    "        else:\n",
    "            print(\"You are a Senior Citizen...\")\n",
    "            \n",
    "findAgeCategory() # Function calling"
   ]
  },
  {
   "cell_type": "code",
   "execution_count": 34,
   "id": "ba56cf9e-fec9-4b8c-8830-77dab7a8657e",
   "metadata": {},
   "outputs": [],
   "source": [
    "def findAgeCategory():\n",
    "    # Function body/task/procedure/formula\n",
    "    if(age<18):\n",
    "        print(\"You are a minor child...\")\n",
    "    elif(age<35):\n",
    "        print(\"You are an Adult...\")\n",
    "    elif(age<55):\n",
    "        print(\"You are a Citizen...\")\n",
    "    else:\n",
    "        print(\"You are a Senior Citizen...\")"
   ]
  },
  {
   "cell_type": "code",
   "execution_count": 37,
   "id": "c7c86c88-fffe-46a0-87d6-1caf8aa1594a",
   "metadata": {},
   "outputs": [
    {
     "name": "stdin",
     "output_type": "stream",
     "text": [
      "Enter your age: 34\n"
     ]
    },
    {
     "name": "stdout",
     "output_type": "stream",
     "text": [
      "You are an Adult...\n",
      "None\n"
     ]
    }
   ],
   "source": [
    "age=int(input(\"Enter your age:\"))\n",
    "ageCategory=findAgeCategory()\n",
    "print(ageCategory)"
   ]
  },
  {
   "cell_type": "code",
   "execution_count": null,
   "id": "298a3c8e-94cd-4097-b13b-1322fb573944",
   "metadata": {},
   "outputs": [],
   "source": [
    "# Sample function with return value"
   ]
  },
  {
   "cell_type": "code",
   "execution_count": 25,
   "id": "d1e5c64b-2bfe-4dd1-b8da-f9abf064e7fe",
   "metadata": {},
   "outputs": [],
   "source": [
    "def findAgeCategory():\n",
    "    # Function body/task/procedure/formula\n",
    "    if(age<18):\n",
    "        category=\"You are an Minor Child...\"\n",
    "    elif(age<35):\n",
    "        category=\"You are an Adult...\"\n",
    "    elif(age<55):\n",
    "        category=\"You are a Citizen...\"\n",
    "    else:\n",
    "        category=\"You are a Senior Citizen...\"\n",
    "    return category"
   ]
  },
  {
   "cell_type": "code",
   "execution_count": 27,
   "id": "ef29498e-7e83-4d72-ba59-9cbbbdc90f33",
   "metadata": {},
   "outputs": [
    {
     "name": "stdin",
     "output_type": "stream",
     "text": [
      "Enter your age: 25\n"
     ]
    },
    {
     "name": "stdout",
     "output_type": "stream",
     "text": [
      "You are an Adult...\n"
     ]
    }
   ],
   "source": [
    "age=int(input(\"Enter your age:\"))\n",
    "ageCategory=findAgeCategory()\n",
    "print(ageCategory)"
   ]
  },
  {
   "cell_type": "markdown",
   "id": "014f8a3b-b5be-4d8d-9a88-cb4cfc9a353c",
   "metadata": {},
   "source": [
    "# understand the purpose of return statement\n",
    "1. By using return statement we can pass the output value to the calling method\n",
    "2. Using the value we get from the calling method we can use it to execute some other task/procedure/formula if needed."
   ]
  },
  {
   "cell_type": "code",
   "execution_count": 53,
   "id": "54514bbc-05be-442b-8d74-2f439e37b835",
   "metadata": {},
   "outputs": [],
   "source": [
    "def findAgeCategory():\n",
    "    age=int(input(\"Enter your age:\"))\n",
    "    # Function body/task/procedure/formula\n",
    "    if(age<18):\n",
    "        category=\"Minor\"\n",
    "    elif(age<35):\n",
    "        category=\"Adult\"\n",
    "    elif(age<55):\n",
    "        category=\"Citizen\"\n",
    "    else:\n",
    "        category=\"Senior Citizen\"\n",
    "    return category"
   ]
  },
  {
   "cell_type": "code",
   "execution_count": 63,
   "id": "1fca03e0-9b8c-4db2-bef3-3fe9b72058d3",
   "metadata": {},
   "outputs": [
    {
     "name": "stdin",
     "output_type": "stream",
     "text": [
      "Enter your age: 56\n"
     ]
    }
   ],
   "source": [
    "ageCategory=findAgeCategory()"
   ]
  },
  {
   "cell_type": "code",
   "execution_count": 65,
   "id": "ec61c5fe-66a7-4136-96a2-fae92c043190",
   "metadata": {},
   "outputs": [
    {
     "name": "stdout",
     "output_type": "stream",
     "text": [
      "Senior Citizen\n"
     ]
    }
   ],
   "source": [
    "if (ageCategory==\"Minor\"):\n",
    "    print(\"Minor\")\n",
    "elif(ageCategory==\"Adult\"):\n",
    "    print(\"Adult\")\n",
    "elif(ageCategory==\"Citizen\"):\n",
    "    print(\"Citizen\")\n",
    "else:\n",
    "    print(\"Senior Citizen\")"
   ]
  },
  {
   "cell_type": "markdown",
   "id": "fad5faa1-bad7-457c-a739-e59f4dbdd7db",
   "metadata": {},
   "source": [
    "# BMI classification sample with parameterized Function"
   ]
  },
  {
   "cell_type": "code",
   "execution_count": 85,
   "id": "6cd50fb1-133f-465f-97e2-345e77b1b3eb",
   "metadata": {},
   "outputs": [],
   "source": [
    "def classifyBMI(bmiIndex): # parameterized function defintion/Function with argument(s)\n",
    "    #check the bmi classification\n",
    "    if (bmiIndex < 18.5): #Condition 1\n",
    "        classification=\"Underweight\"\n",
    "    elif (18.5 <= bmiIndex < 24.9): #Condition 2\n",
    "        classification=\"Normal weight\"\n",
    "    elif (25 <= bmiIndex < 29.9): #Condition 3\n",
    "        classification=\"Overweight\"\n",
    "    elif (30 <= bmiIndex < 34.9): #Condition 4\n",
    "        classification=\"Obesity: Mild (Class 1)\"\n",
    "    elif (35 <= bmiIndex < 39.9): #Condition 5\n",
    "        classification=\"Obesity: Moderate (Class 2)\"\n",
    "    else:\n",
    "        classification=\"Obesity: Morbid (Class 2)\" # >=40\n",
    "    return classification"
   ]
  },
  {
   "cell_type": "code",
   "execution_count": 87,
   "id": "bdd58dae-9f13-45b1-9c4a-353786529a4f",
   "metadata": {},
   "outputs": [
    {
     "name": "stdin",
     "output_type": "stream",
     "text": [
      "Enter your weight in kg 73\n",
      "Enter your height in cm 35\n"
     ]
    },
    {
     "name": "stdout",
     "output_type": "stream",
     "text": [
      "Your weight(in Kg): 73.0\n",
      "Your Height(in cm): 35.0\n",
      "Your BMI index is: 595.92\n",
      "Your BMI classification based on your BMI index is as below:-\n"
     ]
    }
   ],
   "source": [
    "weight=float(input(\"Enter your weight in kg\"))\n",
    "heightInCM=float(input(\"Enter your height in cm\"))\n",
    "#convert the height from cm to meter\n",
    "heightInMeter=(heightInCM/100)\n",
    "#calculate the BMI\n",
    "bmi=(weight/(heightInMeter*heightInMeter))\n",
    "roundedBMI=round(bmi,2)\n",
    "#round of bmi with 2 decimal value\n",
    "print(\"Your weight(in Kg):\",weight)\n",
    "print(\"Your Height(in cm):\",heightInCM)\n",
    "print(\"Your BMI index is:\",roundedBMI)\n",
    "print(\"Your BMI classification based on your BMI index is as below:-\")\n",
    "classification=classifyBMI(roundedBMI) # Call the function with arguement(s)/parameter(s)"
   ]
  },
  {
   "cell_type": "code",
   "execution_count": 89,
   "id": "67f7a14b-643c-4241-aec3-fa5c23fd5d67",
   "metadata": {},
   "outputs": [
    {
     "name": "stdout",
     "output_type": "stream",
     "text": [
      "Obesity: Morbid (Class 2)\n"
     ]
    }
   ],
   "source": [
    "print(classification)"
   ]
  },
  {
   "cell_type": "code",
   "execution_count": 91,
   "id": "6dedffeb-4ecf-4a2d-b078-65ebf9108b53",
   "metadata": {},
   "outputs": [],
   "source": [
    "def multiplication(number1,number2):\n",
    "    result=number1*number2\n",
    "    return result"
   ]
  },
  {
   "cell_type": "code",
   "execution_count": 97,
   "id": "19412558-f2ba-4d3b-970b-47f03c38bf9a",
   "metadata": {},
   "outputs": [
    {
     "name": "stdout",
     "output_type": "stream",
     "text": [
      "Multiplication result is: 20\n"
     ]
    }
   ],
   "source": [
    "multiplicationResult=multiplication(4,5)\n",
    "print(\"Multiplication result is:\",multiplicationResult)"
   ]
  },
  {
   "cell_type": "code",
   "execution_count": null,
   "id": "cc6ae49e-8d41-47cd-b9ab-8aa0224c8b9e",
   "metadata": {},
   "outputs": [],
   "source": []
  }
 ],
 "metadata": {
  "kernelspec": {
   "display_name": "Python [conda env:base] *",
   "language": "python",
   "name": "conda-base-py"
  },
  "language_info": {
   "codemirror_mode": {
    "name": "ipython",
    "version": 3
   },
   "file_extension": ".py",
   "mimetype": "text/x-python",
   "name": "python",
   "nbconvert_exporter": "python",
   "pygments_lexer": "ipython3",
   "version": "3.12.7"
  }
 },
 "nbformat": 4,
 "nbformat_minor": 5
}
