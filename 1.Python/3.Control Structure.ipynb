{
 "cells": [
  {
   "cell_type": "code",
   "execution_count": 1,
   "id": "6b811fab-ead2-4092-ab6a-be64a789994c",
   "metadata": {},
   "outputs": [
    {
     "name": "stdin",
     "output_type": "stream",
     "text": [
      "Enter your age: 45\n"
     ]
    },
    {
     "name": "stdout",
     "output_type": "stream",
     "text": [
      "You are an adult...\n"
     ]
    }
   ],
   "source": [
    "#If test\n",
    "age=input(\"Enter your age:\")\n",
    "#convert string to integer/number before checking\n",
    "age=int(age)\n",
    "if(age>=18): #Condition\n",
    "#Indent is very important\n",
    "    print(\"You are an adult...\") #Order"
   ]
  },
  {
   "cell_type": "code",
   "execution_count": 15,
   "id": "56979b43-9520-4f12-977a-0d8026d2cd0d",
   "metadata": {},
   "outputs": [
    {
     "name": "stdin",
     "output_type": "stream",
     "text": [
      "Enter your age: 17\n"
     ]
    },
    {
     "name": "stdout",
     "output_type": "stream",
     "text": [
      "You are a minor child...\n",
      "Minor...\n"
     ]
    }
   ],
   "source": [
    "#if-else exercise\n",
    "age=input(\"Enter your age:\")\n",
    "#convert string to integer/number before checking\n",
    "age=int(age)\n",
    "if(age>=18):\n",
    "    print(\"You are an adult...\")\n",
    "    print(\"Major...\")\n",
    "else:\n",
    "    print(\"You are a minor child...\")\n",
    "    print(\"Minor...\")"
   ]
  },
  {
   "cell_type": "markdown",
   "id": "6def8b4f-0cef-4738-b44d-109349020589",
   "metadata": {},
   "source": [
    "# if-elif syntax/structure(Alphabets)\n",
    "if(): --> condition 1\n",
    "    print() --> procedure/instruction(Grammer)/Order\n",
    "elif(): --> condition 2\n",
    "    print() --> procedure/instruction(Grammer)/Order\n",
    "elif(): --> condition 3\n",
    "    print() --> procedure/instruction(Grammer)/Order\n",
    "else:\n",
    "    print() --> procedure/instruction(Grammer)/Order\n",
    "\n",
    "# Below are the output needed\n",
    "age < 18 --> Child\n",
    "age < 35 --> Adult\n",
    "age < 55 --> Citizen\n",
    "age > 55 --> Senior Citizen"
   ]
  },
  {
   "cell_type": "code",
   "execution_count": 25,
   "id": "34db4c4e-0952-426f-908c-985125621536",
   "metadata": {},
   "outputs": [
    {
     "name": "stdin",
     "output_type": "stream",
     "text": [
      "Enter your age: 56\n"
     ]
    },
    {
     "name": "stdout",
     "output_type": "stream",
     "text": [
      "You are a Senior Citizen...\n"
     ]
    }
   ],
   "source": [
    "#if-elif exercise\n",
    "age=input(\"Enter your age:\")\n",
    "\n",
    "#convert string to integer/number before checking\n",
    "age=int(age)\n",
    "if(age<18):\n",
    "    print(\"You are a minor child...\")\n",
    "elif(age<35):\n",
    "    print(\"You are an Adult...\")\n",
    "elif(age<55):\n",
    "    print(\"You are a Citizen...\")\n",
    "else:\n",
    "    print(\"You are a Senior Citizen...\")"
   ]
  },
  {
   "cell_type": "markdown",
   "id": "d2c2f64c-97b2-44d8-a1f5-c013a634c720",
   "metadata": {},
   "source": [
    "# write a logic Key notes\n",
    "1. Start to think/analyse the logic before to start the coding\n",
    "2. There are mulitple way to get the output\n",
    "3. Keep it simple\n",
    "4. Try to implement with optimization"
   ]
  },
  {
   "cell_type": "code",
   "execution_count": 7,
   "id": "e58c61b8-c510-4dd7-a329-0d428a116d00",
   "metadata": {},
   "outputs": [
    {
     "name": "stdin",
     "output_type": "stream",
     "text": [
      "Enter your number 5\n"
     ]
    },
    {
     "name": "stdout",
     "output_type": "stream",
     "text": [
      "The given number is an odd number\n"
     ]
    }
   ],
   "source": [
    "# write a program to find odd or even number\n",
    "number=input(\"Enter your number\")\n",
    "number=int(number)\n",
    "if((number%2)==0):\n",
    "    print(\"The given number is an even number\")\n",
    "else:\n",
    "    print(\"The given number is an odd number\")\n"
   ]
  },
  {
   "cell_type": "code",
   "execution_count": null,
   "id": "33c7b2b9-bac6-4d48-8981-5e11bb7a3440",
   "metadata": {},
   "outputs": [],
   "source": []
  }
 ],
 "metadata": {
  "kernelspec": {
   "display_name": "Python [conda env:base] *",
   "language": "python",
   "name": "conda-base-py"
  },
  "language_info": {
   "codemirror_mode": {
    "name": "ipython",
    "version": 3
   },
   "file_extension": ".py",
   "mimetype": "text/x-python",
   "name": "python",
   "nbconvert_exporter": "python",
   "pygments_lexer": "ipython3",
   "version": "3.12.7"
  }
 },
 "nbformat": 4,
 "nbformat_minor": 5
}
