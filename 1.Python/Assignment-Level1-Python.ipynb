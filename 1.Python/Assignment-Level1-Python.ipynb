{
 "cells": [
  {
   "cell_type": "markdown",
   "id": "3c66d6c5-16d8-4eac-becd-3deef12186e4",
   "metadata": {},
   "source": [
    "Question #1"
   ]
  },
  {
   "cell_type": "code",
   "execution_count": 1,
   "id": "e3760c0f-50c0-422a-a0e3-ce6bcd57f7a1",
   "metadata": {},
   "outputs": [
    {
     "name": "stdout",
     "output_type": "stream",
     "text": [
      "Welcome to Assignment-1\n"
     ]
    }
   ],
   "source": [
    "print(\"Welcome to Assignment-1\")"
   ]
  },
  {
   "cell_type": "markdown",
   "id": "e45152ad-9c5b-4e6e-9ab5-45eafc23bafa",
   "metadata": {},
   "source": [
    "Question #2"
   ]
  },
  {
   "cell_type": "code",
   "execution_count": 3,
   "id": "4285358a-0ed3-4d1a-841a-779cf9fddacb",
   "metadata": {},
   "outputs": [
    {
     "name": "stdout",
     "output_type": "stream",
     "text": [
      "Num1= 10\n",
      "Num2= 10\n",
      "Add= 40\n"
     ]
    }
   ],
   "source": [
    "Num1=10\n",
    "Num2=30\n",
    "add=Num1+Num2\n",
    "print(\"Num1=\",Num1)\n",
    "print(\"Num2=\",Num2)\n",
    "print(\"Add=\",add)"
   ]
  },
  {
   "cell_type": "markdown",
   "id": "0456b38b-cc21-4a85-b78f-defab152fcef",
   "metadata": {},
   "source": [
    "Question #3 --> Classifiy the BMI based on weight & height"
   ]
  },
  {
   "cell_type": "code",
   "execution_count": 27,
   "id": "939f86a4-70d3-4cd2-8e30-d212b6af7450",
   "metadata": {},
   "outputs": [
    {
     "name": "stdin",
     "output_type": "stream",
     "text": [
      "Enter your weight in kg 73\n",
      "Enter your height in cm 179\n"
     ]
    },
    {
     "name": "stdout",
     "output_type": "stream",
     "text": [
      "Your weight(in Kg): 73.0\n",
      "Your Height(in cm): 179.0\n",
      "Your BMI: 22.78\n",
      "Your are BMI classification based on your BMI reading is as below...\n",
      "Normal weight...\n"
     ]
    }
   ],
   "source": [
    "weight=float(input(\"Enter your weight in kg\"))\n",
    "heightInCM=float(input(\"Enter your height in cm\"))\n",
    "#convert the height from cm to meter\n",
    "heightInMeter=(heightInCM/100)\n",
    "#calculate the BMI\n",
    "bmi=(weight/(heightInMeter*heightInMeter))\n",
    "roundedBMI=round(bmi,2)\n",
    "#round of bmi with 2 decimal value\n",
    "print(\"Your weight(in Kg):\",weight)\n",
    "print(\"Your Height(in cm):\",heightInCM)\n",
    "print(\"Your BMI:\",roundedBMI)\n",
    "print(\"Your are BMI classification based on your BMI reading is as below...\")\n",
    "#check the bmi classification\n",
    "if (roundedBMI < 18.5): #Condition 1\n",
    "    print(\"Underweight...\")\n",
    "elif (18.5 <= roundedBMI < 24.9): #Condition 2\n",
    "    print(\"Normal weight...\")\n",
    "elif (25 <= roundedBMI < 29.9): #Condition 3\n",
    "    print(\"Overweight...\")\n",
    "elif (30 <= roundedBMI < 34.9): #Condition 4\n",
    "    print(\"Obesity: Mild (Class 1)...\")\n",
    "elif (35 <= roundedBMI < 39.9): #Condition 5\n",
    "    print(\"Obesity: Moderate (Class 2)...\")\n",
    "else:\n",
    "    print(\"Obesity: Morbid (Class 2)...\") # >=40"
   ]
  },
  {
   "cell_type": "code",
   "execution_count": null,
   "id": "61ebf75c-6b99-49a0-a522-ebd35e9dfaf8",
   "metadata": {},
   "outputs": [],
   "source": []
  }
 ],
 "metadata": {
  "kernelspec": {
   "display_name": "Python [conda env:base] *",
   "language": "python",
   "name": "conda-base-py"
  },
  "language_info": {
   "codemirror_mode": {
    "name": "ipython",
    "version": 3
   },
   "file_extension": ".py",
   "mimetype": "text/x-python",
   "name": "python",
   "nbconvert_exporter": "python",
   "pygments_lexer": "ipython3",
   "version": "3.12.7"
  }
 },
 "nbformat": 4,
 "nbformat_minor": 5
}
