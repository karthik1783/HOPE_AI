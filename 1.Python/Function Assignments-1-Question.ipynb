{
 "cells": [
  {
   "cell_type": "code",
   "execution_count": null,
   "id": "0fb9cc93-d5d6-4584-94dc-f2f31d302b99",
   "metadata": {},
   "outputs": [],
   "source": [
    "@auhto:Karthik"
   ]
  },
  {
   "cell_type": "markdown",
   "id": "43c56771-acb3-4448-a816-6ae0b01c4536",
   "metadata": {},
   "source": [
    "# Q1 -  Create a function, and list out the items in the list"
   ]
  },
  {
   "cell_type": "code",
   "execution_count": 1,
   "id": "8679e76d-1dd5-4f79-935b-6c1741cb689d",
   "metadata": {},
   "outputs": [],
   "source": [
    "def printSubList():\n",
    "    print(\"Sub-fields in AI are:\")\n",
    "    subFieldList=[\"Machine Learning\",\"Neural Networks\",\"Vision\",\"Robotics\",\"Speech Processing\",\"Natural Language Processing\"]\n",
    "    for item in subFieldList:\n",
    "        print(item)"
   ]
  },
  {
   "cell_type": "code",
   "execution_count": 3,
   "id": "6d4e5d4e-af22-4c35-b799-e69a1f4b7ea7",
   "metadata": {},
   "outputs": [
    {
     "name": "stdout",
     "output_type": "stream",
     "text": [
      "Sub-fields in AI are:\n",
      "Machine Learning\n",
      "Neural Networks\n",
      "Vision\n",
      "Robotics\n",
      "Speech Processing\n",
      "Natural Language Processing\n"
     ]
    }
   ],
   "source": [
    "printSubList()"
   ]
  },
  {
   "cell_type": "markdown",
   "id": "6dc99e8a-fb2f-4666-9003-1326ae0a8b40",
   "metadata": {},
   "source": [
    "# Q2 - # Create Function to find whether the number is Odd or Even"
   ]
  },
  {
   "cell_type": "code",
   "execution_count": 7,
   "id": "f856647f-fb44-4f0f-b1b3-386e65ea2e4a",
   "metadata": {},
   "outputs": [],
   "source": [
    "def findOddOrEven(number):\n",
    "    if((number%2)!=0):\n",
    "        print(number,\"is Odd number\")\n",
    "    else:\n",
    "        print(number,\"is Even number\")"
   ]
  },
  {
   "cell_type": "code",
   "execution_count": 14,
   "id": "abd869e7-1b05-4676-ac8f-3066e8dab5ba",
   "metadata": {},
   "outputs": [
    {
     "name": "stdin",
     "output_type": "stream",
     "text": [
      "Enter your number: 8\n"
     ]
    },
    {
     "name": "stdout",
     "output_type": "stream",
     "text": [
      "8 is Even number\n"
     ]
    }
   ],
   "source": [
    "givenNumber=int(input(\"Enter your number:\"))\n",
    "findOddOrEven(givenNumber)"
   ]
  },
  {
   "cell_type": "markdown",
   "id": "3ca1c630-ddc2-4807-a4af-abbf4712304d",
   "metadata": {},
   "source": [
    "# Q3 - Create a function that tells elegibility of marriage for male and female according to their age limit like 21 for male and 18 for female"
   ]
  },
  {
   "cell_type": "code",
   "execution_count": 7,
   "id": "7cc67e44-5dd6-4c46-ba8f-8b4d8459380a",
   "metadata": {},
   "outputs": [],
   "source": [
    "def checkMarriageEligibility(gender,age):\n",
    "    if(gender==\"Male\"):\n",
    "        if(age>=21):\n",
    "            print(\"Eligible...\")\n",
    "        else:\n",
    "            print(\"Not Eligible...\")\n",
    "    elif(gender==\"Female\"):\n",
    "        if(age>=18):\n",
    "            print(\"Eligible...\")\n",
    "        else:\n",
    "            print(\"Not Eligible...\")\n",
    "    else:\n",
    "        print(\"Either Male nor Female marriage eligibility only system checks at this moment...\")"
   ]
  },
  {
   "cell_type": "code",
   "execution_count": 9,
   "id": "7d1a50d8-5183-455d-b0a5-a72c8dd34b23",
   "metadata": {},
   "outputs": [
    {
     "name": "stdin",
     "output_type": "stream",
     "text": [
      "Enter your gender (Male/Female): Female\n",
      "Enter your age: 23\n"
     ]
    },
    {
     "name": "stdout",
     "output_type": "stream",
     "text": [
      "Eligible...\n"
     ]
    }
   ],
   "source": [
    "gender=input(\"Enter your gender (Male/Female):\")\n",
    "age=int(input(\"Enter your age:\"))\n",
    "checkMarriageEligibility(gender,age)"
   ]
  },
  {
   "cell_type": "markdown",
   "id": "a7613f24-9f02-438b-be20-af01c0349f3f",
   "metadata": {},
   "source": [
    "# Q4 - Calculate the percentage of your 10th mark"
   ]
  },
  {
   "cell_type": "code",
   "execution_count": 27,
   "id": "7e284b29-9a0f-4b60-ad22-f7a2f2e186db",
   "metadata": {},
   "outputs": [],
   "source": [
    "def calculatePercentage(markList):\n",
    "    summary=int(0)\n",
    "    for mark in markList:\n",
    "        summary=summary+int(mark)\n",
    "    totalSubjects=len(markList)\n",
    "    average=(summary/totalSubjects)\n",
    "    return average"
   ]
  },
  {
   "cell_type": "code",
   "execution_count": 35,
   "id": "8b705834-af5f-44d8-beea-0611e5c6eebb",
   "metadata": {},
   "outputs": [
    {
     "name": "stdout",
     "output_type": "stream",
     "text": [
      "Subject1: 98\n",
      "Subject2: 87\n",
      "Subject3: 95\n",
      "Subject4: 95\n",
      "Subject5: 93\n",
      "Percentage is: 93.6\n"
     ]
    }
   ],
   "source": [
    "markList=[98,87,95,95,93]\n",
    "for i in range(len(markList)):\n",
    "    print(f\"Subject{i+1}:\",markList[i])\n",
    "average=calculatePercentage(markList)\n",
    "print(f\"Percentage is:\",average)"
   ]
  },
  {
   "cell_type": "markdown",
   "id": "27102454-bef2-45b6-ade8-6975a9542ced",
   "metadata": {},
   "source": [
    "# Q5 - Print area and perimeter of triangle using functions"
   ]
  },
  {
   "cell_type": "code",
   "execution_count": 37,
   "id": "cd41b65a-faee-4d6d-a9cf-b1742d3e2ef2",
   "metadata": {},
   "outputs": [],
   "source": [
    "def calculateArea(height,breadth):\n",
    "    area=(height*breadth)/2\n",
    "    return area"
   ]
  },
  {
   "cell_type": "code",
   "execution_count": 39,
   "id": "d29c2c9f-5b2b-4cd8-9b12-a5a9c9623fca",
   "metadata": {},
   "outputs": [],
   "source": [
    "def calculatePerimeter(height1,height2,breadth):\n",
    "    perimeter=height1+height2+breadth\n",
    "    return perimeter"
   ]
  },
  {
   "cell_type": "code",
   "execution_count": 45,
   "id": "331f623e-de04-495a-8d19-d0db7c1db525",
   "metadata": {},
   "outputs": [
    {
     "name": "stdin",
     "output_type": "stream",
     "text": [
      "Enter the height of the Triangle: 32\n",
      "Enter the breadth of the Triangle: 34\n"
     ]
    },
    {
     "name": "stdout",
     "output_type": "stream",
     "text": [
      "Area of the triangle is: 544.0\n"
     ]
    },
    {
     "name": "stdin",
     "output_type": "stream",
     "text": [
      "Enter the height1 of the Triangle: 2\n",
      "Enter the height2 of the Triangle: 4\n",
      "Enter the breadth of the Triangle: 4\n"
     ]
    },
    {
     "name": "stdout",
     "output_type": "stream",
     "text": [
      "The perimeter of the triangle is: 10\n"
     ]
    }
   ],
   "source": [
    "height=int(input(\"Enter the height of the Triangle:\"))\n",
    "breadth=int(input(\"Enter the breadth of the Triangle:\"))\n",
    "print(\"Area of the triangle is:\",calculateArea(height,breadth))\n",
    "height1=int(input(\"Enter the height1 of the Triangle:\"))\n",
    "height2=int(input(\"Enter the height2 of the Triangle:\"))\n",
    "breadth=int(input(\"Enter the breadth of the Triangle:\"))\n",
    "print(\"The perimeter of the triangle is:\",calculatePerimeter(height1,height2,breadth))"
   ]
  }
 ],
 "metadata": {
  "kernelspec": {
   "display_name": "Python [conda env:base] *",
   "language": "python",
   "name": "conda-base-py"
  },
  "language_info": {
   "codemirror_mode": {
    "name": "ipython",
    "version": 3
   },
   "file_extension": ".py",
   "mimetype": "text/x-python",
   "name": "python",
   "nbconvert_exporter": "python",
   "pygments_lexer": "ipython3",
   "version": "3.12.7"
  }
 },
 "nbformat": 4,
 "nbformat_minor": 5
}
