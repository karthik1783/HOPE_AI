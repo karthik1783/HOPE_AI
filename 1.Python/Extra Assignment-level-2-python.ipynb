{
 "cells": [
  {
   "cell_type": "markdown",
   "id": "860667e4-b844-4a5c-91a8-49a7724ef115",
   "metadata": {},
   "source": [
    "# Q1 - Print 0 to 20 by using range"
   ]
  },
  {
   "cell_type": "code",
   "execution_count": 3,
   "id": "88cfa581-09a0-463f-a37d-d64c9c7fcd5a",
   "metadata": {},
   "outputs": [
    {
     "name": "stdout",
     "output_type": "stream",
     "text": [
      "0\n",
      "1\n",
      "2\n",
      "3\n",
      "4\n",
      "5\n",
      "6\n",
      "7\n",
      "8\n",
      "9\n",
      "10\n",
      "11\n",
      "12\n",
      "13\n",
      "14\n",
      "15\n",
      "16\n",
      "17\n",
      "18\n",
      "19\n"
     ]
    }
   ],
   "source": [
    "for number in range(20):\n",
    "    print(number)"
   ]
  },
  {
   "cell_type": "markdown",
   "id": "77aea015-ca9b-4742-8da7-99e7ba96b791",
   "metadata": {},
   "source": [
    "# Q2 - Print range 10 to 20"
   ]
  },
  {
   "cell_type": "code",
   "execution_count": 5,
   "id": "653465f4-8f16-426a-82ff-4d000bdba9c8",
   "metadata": {},
   "outputs": [
    {
     "name": "stdout",
     "output_type": "stream",
     "text": [
      "10\n",
      "11\n",
      "12\n",
      "13\n",
      "14\n",
      "15\n",
      "16\n",
      "17\n",
      "18\n",
      "19\n",
      "20\n"
     ]
    }
   ],
   "source": [
    "for number in range(21):\n",
    "    if(number >= 10):\n",
    "        print(number)"
   ]
  },
  {
   "cell_type": "markdown",
   "id": "631adccf-6e16-43b1-b06d-e612ef0f9dff",
   "metadata": {},
   "source": [
    "# Q3 - Print number of items in the list by using 'len'"
   ]
  },
  {
   "cell_type": "code",
   "execution_count": 7,
   "id": "09797a05-efb5-428c-9c74-621c4c2b5834",
   "metadata": {},
   "outputs": [
    {
     "name": "stdout",
     "output_type": "stream",
     "text": [
      "The length of the number list: 7\n"
     ]
    }
   ],
   "source": [
    "numberList=[10, 20, 14, 55, 43, 87, 76]\n",
    "print(\"The length of the number list:\",len(numberList))"
   ]
  },
  {
   "cell_type": "code",
   "execution_count": null,
   "id": "2d7e4a89-d6cf-4078-a733-40c8ae14554f",
   "metadata": {},
   "outputs": [],
   "source": []
  }
 ],
 "metadata": {
  "kernelspec": {
   "display_name": "Python [conda env:base] *",
   "language": "python",
   "name": "conda-base-py"
  },
  "language_info": {
   "codemirror_mode": {
    "name": "ipython",
    "version": 3
   },
   "file_extension": ".py",
   "mimetype": "text/x-python",
   "name": "python",
   "nbconvert_exporter": "python",
   "pygments_lexer": "ipython3",
   "version": "3.12.7"
  }
 },
 "nbformat": 4,
 "nbformat_minor": 5
}
