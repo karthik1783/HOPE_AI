{
 "cells": [
  {
   "cell_type": "markdown",
   "id": "abfa9ded-faa5-4444-9fb0-fae23adf6be1",
   "metadata": {},
   "source": [
    "# Study about the python library creation and implementation\n",
    "1. Create python library by creating text file and save with extension of '.py'\n",
    "2. Write/Create a set of procedures (classes) in that python library\n",
    "3. Import the python library wherever is needed.\n",
    "4. It is possible to keep both library name and class name with same name"
   ]
  },
  {
   "cell_type": "code",
   "execution_count": 7,
   "id": "2776caef-aa94-4d19-a532-2e0a929b1f82",
   "metadata": {},
   "outputs": [
    {
     "name": "stdin",
     "output_type": "stream",
     "text": [
      "Enter your age: 35\n"
     ]
    },
    {
     "data": {
      "text/plain": [
       "'Citizen'"
      ]
     },
     "execution_count": 7,
     "metadata": {},
     "output_type": "execute_result"
    }
   ],
   "source": [
    "# syntax --> from <python libray name> import <class name(s) with comma seperated> <-- both are case sensitive\n",
    "from testLibrary import sampleClass,bmiClass # Importing the python library\n",
    "#from testLibrary import bmiClass\n",
    "sampleClass.findAgeCategory()"
   ]
  },
  {
   "cell_type": "code",
   "execution_count": 9,
   "id": "ea9429cf-0739-49ff-8b48-3414c6cd26c5",
   "metadata": {},
   "outputs": [
    {
     "name": "stdin",
     "output_type": "stream",
     "text": [
      "Enter your weight in kg 73\n",
      "Enter your height in cm 179\n"
     ]
    },
    {
     "name": "stdout",
     "output_type": "stream",
     "text": [
      "Your weight(in Kg): 73.0\n",
      "Your Height(in cm): 179.0\n",
      "Your BMI index is: 22.78\n"
     ]
    },
    {
     "data": {
      "text/plain": [
       "22.78"
      ]
     },
     "execution_count": 9,
     "metadata": {},
     "output_type": "execute_result"
    }
   ],
   "source": [
    "bmiClass.calculateBMI()"
   ]
  },
  {
   "cell_type": "code",
   "execution_count": 11,
   "id": "18093a92-cd0a-4066-972c-4829210e18f4",
   "metadata": {},
   "outputs": [
    {
     "name": "stdout",
     "output_type": "stream",
     "text": [
      "Your BMI classification based on your BMI index is as below:-\n"
     ]
    },
    {
     "data": {
      "text/plain": [
       "'Normal weight'"
      ]
     },
     "execution_count": 11,
     "metadata": {},
     "output_type": "execute_result"
    }
   ],
   "source": [
    "bmiClass.classifyBMI(22.78)"
   ]
  },
  {
   "cell_type": "code",
   "execution_count": null,
   "id": "8c6ee190-4cc0-4658-903d-eaf3845eab9a",
   "metadata": {},
   "outputs": [],
   "source": []
  }
 ],
 "metadata": {
  "kernelspec": {
   "display_name": "Python [conda env:base] *",
   "language": "python",
   "name": "conda-base-py"
  },
  "language_info": {
   "codemirror_mode": {
    "name": "ipython",
    "version": 3
   },
   "file_extension": ".py",
   "mimetype": "text/x-python",
   "name": "python",
   "nbconvert_exporter": "python",
   "pygments_lexer": "ipython3",
   "version": "3.12.7"
  }
 },
 "nbformat": 4,
 "nbformat_minor": 5
}
