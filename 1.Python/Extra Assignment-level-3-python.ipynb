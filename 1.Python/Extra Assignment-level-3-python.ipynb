{
 "cells": [
  {
   "cell_type": "markdown",
   "id": "8a3beb41-a449-4dc7-ba1d-8080a5e34021",
   "metadata": {},
   "source": [
    "# Q1 - Print 'CORRECT' if i == 10"
   ]
  },
  {
   "cell_type": "code",
   "execution_count": 3,
   "id": "1431d2cb-5907-4825-ac49-8044b9921d8d",
   "metadata": {},
   "outputs": [
    {
     "name": "stdout",
     "output_type": "stream",
     "text": [
      "Correct\n"
     ]
    }
   ],
   "source": [
    "for number in range(20):\n",
    "    if(number==10):\n",
    "        print('Correct')"
   ]
  },
  {
   "cell_type": "markdown",
   "id": "bdf88fdc-b9c2-4230-8564-7d468c44256a",
   "metadata": {},
   "source": [
    "# Q2 - Check the password, using if and else"
   ]
  },
  {
   "cell_type": "code",
   "execution_count": 13,
   "id": "0f9687b4-6cba-4a1c-96bc-d3a7375c7dc2",
   "metadata": {},
   "outputs": [
    {
     "name": "stdin",
     "output_type": "stream",
     "text": [
      "Enter your password HOPE@123\n"
     ]
    },
    {
     "name": "stdout",
     "output_type": "stream",
     "text": [
      "Your password is correct...\n"
     ]
    }
   ],
   "source": [
    "password=input(\"Enter your password\")\n",
    "if(password == \"HOPE@123\"):\n",
    "    print(\"Your password is correct...\")\n",
    "else:\n",
    "    print('You have entered wrong password...')"
   ]
  },
  {
   "cell_type": "markdown",
   "id": "9f54ba9c-c019-47bc-bef4-898abb24d9cf",
   "metadata": {},
   "source": [
    "# Q3 - Catagory the people by their age like children, adult, citizen, senior citizen..."
   ]
  },
  {
   "cell_type": "code",
   "execution_count": 17,
   "id": "c595d2a7-274c-43f3-a254-94d6e89c1195",
   "metadata": {},
   "outputs": [
    {
     "name": "stdin",
     "output_type": "stream",
     "text": [
      "Enter your age 35\n"
     ]
    },
    {
     "name": "stdout",
     "output_type": "stream",
     "text": [
      "Citizen...\n"
     ]
    }
   ],
   "source": [
    "age=int(input(\"Enter your age\"))\n",
    "if(age<18):\n",
    "    print(\"Minor...\")\n",
    "elif(age<35):\n",
    "    print(\"Adult...\")\n",
    "elif(age<55):\n",
    "    print(\"Citizen...\")\n",
    "else:\n",
    "    print(\"Senior Citizen...\")"
   ]
  },
  {
   "cell_type": "markdown",
   "id": "8b48e830-dc94-44f3-a298-6c0966179bde",
   "metadata": {},
   "source": [
    "# Q4 - Find whether given number is positive or negative"
   ]
  },
  {
   "cell_type": "markdown",
   "id": "eac6dbc0-d67a-4181-b9e6-6769b7c1888f",
   "metadata": {},
   "source": [
    "number=int(input(\"Please provide a number:\"))\n",
    "if(number>=0):\n",
    "    print(\"Given number is positive...\")\n",
    "else:\n",
    "    print('Given number is negative...')"
   ]
  },
  {
   "cell_type": "markdown",
   "id": "8e4feb8c-8fe2-47a8-aad4-8c2333da2178",
   "metadata": {},
   "source": [
    "# Q5 - Check whether the given number is divisible by 5"
   ]
  },
  {
   "cell_type": "code",
   "execution_count": 27,
   "id": "c0e48318-5d48-44a0-8088-6d26d7b11b34",
   "metadata": {},
   "outputs": [
    {
     "name": "stdin",
     "output_type": "stream",
     "text": [
      "Please provide a number to check: 22\n"
     ]
    },
    {
     "name": "stdout",
     "output_type": "stream",
     "text": [
      "The given number is not divisable by 5...\n"
     ]
    }
   ],
   "source": [
    "number=int(input(\"Please provide a number to check:\"))\n",
    "if(number%5==0):\n",
    "    print('The given number is divisable by 5...')\n",
    "else:\n",
    "    print('The given number is not divisable by 5...')"
   ]
  },
  {
   "cell_type": "code",
   "execution_count": null,
   "id": "b30f9e7a-00b6-420a-8fcb-101163b96545",
   "metadata": {},
   "outputs": [],
   "source": []
  }
 ],
 "metadata": {
  "kernelspec": {
   "display_name": "Python [conda env:base] *",
   "language": "python",
   "name": "conda-base-py"
  },
  "language_info": {
   "codemirror_mode": {
    "name": "ipython",
    "version": 3
   },
   "file_extension": ".py",
   "mimetype": "text/x-python",
   "name": "python",
   "nbconvert_exporter": "python",
   "pygments_lexer": "ipython3",
   "version": "3.12.7"
  }
 },
 "nbformat": 4,
 "nbformat_minor": 5
}
