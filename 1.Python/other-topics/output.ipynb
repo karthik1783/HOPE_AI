{
 "cells": [
  {
   "cell_type": "code",
   "execution_count": 41,
   "id": "2860e74f-d210-4f32-8443-b4c0535b4263",
   "metadata": {},
   "outputs": [
    {
     "name": "stdout",
     "output_type": "stream",
     "text": [
      "Alice 25 New York\n",
      "Alice-#25-#New York\n",
      "Alice 25 New York #Test end parameter..."
     ]
    }
   ],
   "source": [
    "# Multiple Variables\n",
    "name = \"Alice\"\n",
    "age = 25\n",
    "city = \"New York\"\n",
    "print(name,age,city) # default sep(seprator) character is space\n",
    "print(name, age, city, sep=\"-#\") # replaces the comma with whatever the character we give in 'sep' parameter\n",
    "print(name,age,city, end=\" #Test end parameter...\")"
   ]
  },
  {
   "cell_type": "code",
   "execution_count": 49,
   "id": "4ffd0a34-0e4f-49d2-8416-cdcec55e7a53",
   "metadata": {},
   "outputs": [
    {
     "name": "stdout",
     "output_type": "stream",
     "text": [
      "1**2**3**4**5**"
     ]
    }
   ],
   "source": [
    "for i in range(1,6):\n",
    "    print (i,end=\"**\") # default end value is \\n. it repalces whatever the character we give in 'end' parameter"
   ]
  },
  {
   "cell_type": "code",
   "execution_count": 51,
   "id": "a445ba37-abef-48d3-b7de-5feaf5cbabd0",
   "metadata": {},
   "outputs": [
    {
     "name": "stdout",
     "output_type": "stream",
     "text": [
      "Python@GeeksforGeeks\n"
     ]
    }
   ],
   "source": [
    "print(\"Python\", end='@') # default end value is \\n. it repalces whatever the character we give in 'end' parameter\n",
    "print(\"GeeksforGeeks\")"
   ]
  },
  {
   "cell_type": "markdown",
   "id": "bf6160d6-1d7f-4781-97b5-f734de96ec72",
   "metadata": {},
   "source": [
    "# f-strings - Formatted string. It is used to inject/insert values directly into the string"
   ]
  },
  {
   "cell_type": "code",
   "execution_count": 63,
   "id": "c854f7c9-3477-40aa-b3be-828a88d7226c",
   "metadata": {},
   "outputs": [
    {
     "name": "stdout",
     "output_type": "stream",
     "text": [
      "Hello, my name is Karthik and my age is 25\n",
      "Hello, my name is Karthik and my age is 25..."
     ]
    }
   ],
   "source": [
    "name=\"Karthik\"\n",
    "age=25\n",
    "print(f\"Hello, my name is {name} and my age is {age}\")\n",
    "print(f\"Hello, my name is {name} and my age is {age}\", end=\"...\")"
   ]
  },
  {
   "cell_type": "code",
   "execution_count": null,
   "id": "c21819f2-3739-4d4d-9276-130ce65357eb",
   "metadata": {},
   "outputs": [],
   "source": []
  }
 ],
 "metadata": {
  "kernelspec": {
   "display_name": "Python [conda env:base] *",
   "language": "python",
   "name": "conda-base-py"
  },
  "language_info": {
   "codemirror_mode": {
    "name": "ipython",
    "version": 3
   },
   "file_extension": ".py",
   "mimetype": "text/x-python",
   "name": "python",
   "nbconvert_exporter": "python",
   "pygments_lexer": "ipython3",
   "version": "3.12.7"
  }
 },
 "nbformat": 4,
 "nbformat_minor": 5
}
