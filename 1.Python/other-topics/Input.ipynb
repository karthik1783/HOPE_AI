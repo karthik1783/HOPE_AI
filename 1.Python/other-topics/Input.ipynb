{
 "cells": [
  {
   "cell_type": "markdown",
   "id": "0d442b82-e637-423c-9b5a-582917c98fb0",
   "metadata": {},
   "source": [
    "# multiple inputs with split() method.\n",
    "# split() will split the inputs by using 'space'"
   ]
  },
  {
   "cell_type": "code",
   "execution_count": 9,
   "id": "bad50fd4-b11c-4908-a4cd-659e7c71546a",
   "metadata": {},
   "outputs": [
    {
     "name": "stdin",
     "output_type": "stream",
     "text": [
      "Enter the 2 numbers: 5 9\n"
     ]
    },
    {
     "name": "stdout",
     "output_type": "stream",
     "text": [
      "First Number: 5\n",
      "Second Number: 9\n"
     ]
    }
   ],
   "source": [
    "x,y=input(\"Enter the 2 numbers:\").split()\n",
    "print(\"First Number:\",x)\n",
    "print(\"Second Number:\",y)"
   ]
  },
  {
   "cell_type": "code",
   "execution_count": 11,
   "id": "45faff07-16fd-46bf-b235-4bb8285daff2",
   "metadata": {},
   "outputs": [
    {
     "name": "stdin",
     "output_type": "stream",
     "text": [
      "Enter the 2 numbers: 5,6 90\n"
     ]
    },
    {
     "name": "stdout",
     "output_type": "stream",
     "text": [
      "First Number: 5,6\n",
      "Second Number: 90\n"
     ]
    }
   ],
   "source": [
    "a,b=input(\"Enter the 2 numbers:\").split()\n",
    "print(\"First Number:\",a)\n",
    "print(\"Second Number:\",b)"
   ]
  },
  {
   "cell_type": "markdown",
   "id": "23c60a21-b978-4fb9-b5ad-7abe7e0df908",
   "metadata": {},
   "source": [
    "# DataType of Input in Python"
   ]
  },
  {
   "cell_type": "code",
   "execution_count": 15,
   "id": "7871c965-bd29-4cfa-97e5-93abd2309c7b",
   "metadata": {},
   "outputs": [
    {
     "name": "stdout",
     "output_type": "stream",
     "text": [
      "<class 'str'>\n",
      "<class 'int'>\n",
      "<class 'float'>\n",
      "<class 'tuple'>\n",
      "<class 'list'>\n"
     ]
    }
   ],
   "source": [
    "a=\"Karthikeyan\"\n",
    "b=10\n",
    "c=45.50\n",
    "d=(\"Karthik\",4,\"Test\")\n",
    "e=[\"Karthik\",\"Test\",\"R\"]\n",
    "print(type(a))\n",
    "print(type(b))\n",
    "print(type(c))\n",
    "print(type(d))\n",
    "print(type(e))"
   ]
  },
  {
   "cell_type": "code",
   "execution_count": null,
   "id": "e90fab78-859a-412d-a7cc-e3f0c0260ce4",
   "metadata": {},
   "outputs": [],
   "source": [
    "# same variable can hold different type of values during execution since it donot require explicit declaration\n",
    "x = 10\n",
    "x = \"Now a string\"\n",
    "print(x)"
   ]
  },
  {
   "cell_type": "markdown",
   "id": "2cae3c27-2c05-4bed-8d0c-ca17d52a1428",
   "metadata": {},
   "source": [
    "# Multiple assignment"
   ]
  },
  {
   "cell_type": "code",
   "execution_count": 19,
   "id": "7a8329c8-6f63-4f47-9ae4-a0e8c380e6ed",
   "metadata": {},
   "outputs": [
    {
     "name": "stdout",
     "output_type": "stream",
     "text": [
      "5 5\n",
      "5\n"
     ]
    }
   ],
   "source": [
    "a=b=c=5\n",
    "print(a,b)\n",
    "print(c)"
   ]
  },
  {
   "cell_type": "code",
   "execution_count": 21,
   "id": "5f350e21-7ae1-4d07-9452-140b3532382a",
   "metadata": {},
   "outputs": [
    {
     "name": "stdout",
     "output_type": "stream",
     "text": [
      "5\n",
      "23.5\n",
      "Karthik\n"
     ]
    }
   ],
   "source": [
    "a,b,c=5,23.5,\"Karthik\"\n",
    "print(a)\n",
    "print(b)\n",
    "print(c)"
   ]
  },
  {
   "cell_type": "markdown",
   "id": "acdf9523-cc4c-4dba-9358-712f90cc5822",
   "metadata": {},
   "source": [
    "# Other facts about varaibles"
   ]
  },
  {
   "cell_type": "code",
   "execution_count": 23,
   "id": "c0cdc9f3-ca74-4484-878e-354f2a8e182a",
   "metadata": {},
   "outputs": [
    {
     "name": "stdout",
     "output_type": "stream",
     "text": [
      "a: 10\n",
      "b: 5\n"
     ]
    }
   ],
   "source": [
    "a,b=10,5\n",
    "print(\"a:\",a)\n",
    "print(\"b:\",b)"
   ]
  },
  {
   "cell_type": "code",
   "execution_count": 25,
   "id": "8670781b-2d6a-4f87-8246-31bcf6419868",
   "metadata": {},
   "outputs": [
    {
     "name": "stdout",
     "output_type": "stream",
     "text": [
      "After swpping...\n",
      "a: 5\n",
      "b: 10\n"
     ]
    }
   ],
   "source": [
    "a,b=b,a\n",
    "print(\"After swpping...\")\n",
    "print(\"a:\",a)\n",
    "print(\"b:\",b)"
   ]
  },
  {
   "cell_type": "markdown",
   "id": "b4516b58-677a-4b02-ace9-9682eefa1b72",
   "metadata": {},
   "source": [
    "# del keyword - It deletes the varaible from the memory/name space"
   ]
  },
  {
   "cell_type": "code",
   "execution_count": 27,
   "id": "2e039b85-e996-4f15-a39b-44c52f409257",
   "metadata": {},
   "outputs": [
    {
     "name": "stdout",
     "output_type": "stream",
     "text": [
      "a: 10\n"
     ]
    },
    {
     "ename": "NameError",
     "evalue": "name 'a' is not defined",
     "output_type": "error",
     "traceback": [
      "\u001b[1;31m---------------------------------------------------------------------------\u001b[0m",
      "\u001b[1;31mNameError\u001b[0m                                 Traceback (most recent call last)",
      "Cell \u001b[1;32mIn[27], line 4\u001b[0m\n\u001b[0;32m      2\u001b[0m \u001b[38;5;28mprint\u001b[39m(\u001b[38;5;124m\"\u001b[39m\u001b[38;5;124ma:\u001b[39m\u001b[38;5;124m\"\u001b[39m,a)\n\u001b[0;32m      3\u001b[0m \u001b[38;5;28;01mdel\u001b[39;00m a\n\u001b[1;32m----> 4\u001b[0m \u001b[38;5;28mprint\u001b[39m(a)\n",
      "\u001b[1;31mNameError\u001b[0m: name 'a' is not defined"
     ]
    }
   ],
   "source": [
    "a=10\n",
    "print(\"a:\",a)\n",
    "del a\n",
    "print(a) # will get an error since we already removed the variable from the memory"
   ]
  },
  {
   "cell_type": "code",
   "execution_count": null,
   "id": "0f5c1199-a397-4a24-8fff-948a00d92be9",
   "metadata": {},
   "outputs": [],
   "source": []
  }
 ],
 "metadata": {
  "kernelspec": {
   "display_name": "Python [conda env:base] *",
   "language": "python",
   "name": "conda-base-py"
  },
  "language_info": {
   "codemirror_mode": {
    "name": "ipython",
    "version": 3
   },
   "file_extension": ".py",
   "mimetype": "text/x-python",
   "name": "python",
   "nbconvert_exporter": "python",
   "pygments_lexer": "ipython3",
   "version": "3.12.7"
  }
 },
 "nbformat": 4,
 "nbformat_minor": 5
}
