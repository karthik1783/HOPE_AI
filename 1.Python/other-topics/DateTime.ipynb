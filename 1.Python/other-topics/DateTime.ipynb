{
 "cells": [
  {
   "cell_type": "code",
   "execution_count": 15,
   "id": "61a9647f-2a9b-461d-9f40-690cb0578856",
   "metadata": {},
   "outputs": [
    {
     "name": "stdout",
     "output_type": "stream",
     "text": [
      "2025-02-09\n",
      "Weekdays: 6\n",
      "Weekdays: 7\n"
     ]
    }
   ],
   "source": [
    "from datetime import date,time\n",
    "today=date.today()\n",
    "print(today)\n",
    "print(\"Weekdays:\", today.weekday())\n",
    "print(\"Weekdays:\", today.isoweekday())"
   ]
  },
  {
   "cell_type": "code",
   "execution_count": 51,
   "id": "1770c0a0-b8e3-47c3-9374-582974887a12",
   "metadata": {},
   "outputs": [
    {
     "name": "stdout",
     "output_type": "stream",
     "text": [
      "Entered time 16:03:36.001212\n",
      "None\n",
      "Replaced time: 04:25:36.001212\n",
      "Formatting time: 04:03 PM\n",
      "\n",
      "Time with one argument 00:03:00\n"
     ]
    }
   ],
   "source": [
    "# calling the constructor\n",
    "my_time = time(16, 3, 36, 1212)\n",
    " \n",
    "print(\"Entered time\", my_time)\n",
    "\n",
    "print(my_time.tzinfo)\n",
    "\n",
    "print(\"Replaced time:\", my_time.replace(hour=4, minute=25))\n",
    "print(\"Formatting time:\", my_time.strftime(\"%I:%M %p\"))\n",
    " \n",
    "# calling constructor with 1\n",
    "# argument\n",
    "my_time = time(minute = 3)\n",
    "print(\"\\nTime with one argument\", my_time)\n",
    " \n"
   ]
  },
  {
   "cell_type": "markdown",
   "id": "a6c3087a-03b3-4928-b7c2-83fb9816a8da",
   "metadata": {},
   "source": [
    "# 'datetime' class"
   ]
  },
  {
   "cell_type": "code",
   "execution_count": 5,
   "id": "e890cd56-fb5f-4573-8133-d5264ae1fd84",
   "metadata": {},
   "outputs": [
    {
     "name": "stdout",
     "output_type": "stream",
     "text": [
      "Current date & time: 2025-02-13 23:36:04.536186\n",
      "Current date: 2025-02-13\n",
      "Current time: Thu Feb 13 23:36:04 2025\n",
      "2025-02-13T23:36:04.536186\n",
      "2025-02-13 23:36:04.536186\n",
      "None\n",
      "Datetime from timestamp: 2029-10-26 00:17:48\n",
      "Datetime from ordinal: 2021-07-23 00:00:00\n"
     ]
    }
   ],
   "source": [
    "from datetime import datetime\n",
    "# Getting Today's Datetime\n",
    "today = datetime.now()\n",
    "print(\"Current date & time:\", today)\n",
    "print(\"Current date:\", today.date())\n",
    "print(\"Current time:\", today.ctime())\n",
    "print(today.isoformat())\n",
    "print(today.today())\n",
    "print(today.tzname())\n",
    "\n",
    "# Getting Datetime from timestamp\n",
    "date_time = datetime.fromtimestamp(1887639468)\n",
    "print(\"Datetime from timestamp:\", date_time)\n",
    "\n",
    "# Getting Datetime from ordinal\n",
    "date_time = datetime.fromordinal(737994)\n",
    "print(\"Datetime from ordinal:\", date_time)"
   ]
  },
  {
   "cell_type": "markdown",
   "id": "10f383a9-a675-4672-9c6d-aa7a15f516e3",
   "metadata": {},
   "source": [
    "# timedelta\n",
    "# Syntax --> class datetime.timedelta(days=0, seconds=0, microseconds=0, milliseconds=0, minutes=0, hours=0, weeks=0)"
   ]
  },
  {
   "cell_type": "code",
   "execution_count": 26,
   "id": "08a59eb7-4871-452f-b71d-a5e1b16e72d0",
   "metadata": {},
   "outputs": [
    {
     "name": "stdout",
     "output_type": "stream",
     "text": [
      "Current date: 2025-02-13 23:57:17.543729\n",
      "Add current date + 1 hr.: 2025-02-14 00:57:17.543729\n",
      "Add current date + 1 day: 2025-02-14 23:57:17.543729\n",
      "3600.0\n",
      "60.0\n"
     ]
    }
   ],
   "source": [
    "from datetime import timedelta,datetime\n",
    "today=datetime.now()\n",
    "print(\"Current date:\",today)\n",
    "print(\"Add current date + 1 hr.:\",today+timedelta(hours=1))\n",
    "print(\"Add current date + 1 day:\",today+timedelta(days=1))\n",
    "\n",
    "hour=timedelta(hours=1)\n",
    "print(hour.total_seconds())\n",
    "minutes=timedelta(minutes=1)\n",
    "print(minutes.total_seconds())"
   ]
  },
  {
   "cell_type": "code",
   "execution_count": null,
   "id": "95119f1e-758a-4123-ba5b-0b6b5aacd082",
   "metadata": {},
   "outputs": [],
   "source": []
  }
 ],
 "metadata": {
  "kernelspec": {
   "display_name": "Python [conda env:base] *",
   "language": "python",
   "name": "conda-base-py"
  },
  "language_info": {
   "codemirror_mode": {
    "name": "ipython",
    "version": 3
   },
   "file_extension": ".py",
   "mimetype": "text/x-python",
   "name": "python",
   "nbconvert_exporter": "python",
   "pygments_lexer": "ipython3",
   "version": "3.12.7"
  }
 },
 "nbformat": 4,
 "nbformat_minor": 5
}
