{
 "cells": [
  {
   "cell_type": "markdown",
   "id": "b173928f-0be3-4bd8-85d9-fd699cea2960",
   "metadata": {},
   "source": [
    "# for-loop syntax\n",
    "for temp.variable in mainvariable:\n",
    "    print()\n",
    "\n",
    "Key Notes: (When/where to use?)\n",
    "1. Multiple inputs with 1 condition or\n",
    "2. Multiple inputs with 1 set of procedure to execute"
   ]
  },
  {
   "cell_type": "code",
   "execution_count": 1,
   "id": "69b4956b-3d22-466e-8bf3-832a5237f6ed",
   "metadata": {},
   "outputs": [
    {
     "name": "stdout",
     "output_type": "stream",
     "text": [
      "You are a minor child...\n",
      "You are a Senior Citizen...\n",
      "You are an Adult...\n",
      "You are a Citizen...\n",
      "You are a Citizen...\n"
     ]
    }
   ],
   "source": [
    "ageLists=[10,60,25,38,48]\n",
    "for age in ageLists:\n",
    "    if(age<18):\n",
    "        print(\"You are a minor child...\")\n",
    "    elif(age<35):\n",
    "        print(\"You are an Adult...\")\n",
    "    elif(age<55):\n",
    "        print(\"You are a Citizen...\")\n",
    "    else:\n",
    "        print(\"You are a Senior Citizen...\")"
   ]
  },
  {
   "cell_type": "code",
   "execution_count": null,
   "id": "d14f662c-c038-48a4-901d-62e7d2852b35",
   "metadata": {},
   "outputs": [],
   "source": []
  }
 ],
 "metadata": {
  "kernelspec": {
   "display_name": "Python [conda env:base] *",
   "language": "python",
   "name": "conda-base-py"
  },
  "language_info": {
   "codemirror_mode": {
    "name": "ipython",
    "version": 3
   },
   "file_extension": ".py",
   "mimetype": "text/x-python",
   "name": "python",
   "nbconvert_exporter": "python",
   "pygments_lexer": "ipython3",
   "version": "3.12.7"
  }
 },
 "nbformat": 4,
 "nbformat_minor": 5
}
