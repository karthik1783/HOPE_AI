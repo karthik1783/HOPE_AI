{
 "cells": [
  {
   "cell_type": "markdown",
   "id": "db4489be-eef2-4a83-ab29-82816aaec26e",
   "metadata": {},
   "source": [
    "Get the default input value --> Always it is a string value"
   ]
  },
  {
   "cell_type": "code",
   "execution_count": 3,
   "id": "8e22e846-0428-466f-817d-fff6a52912ca",
   "metadata": {},
   "outputs": [
    {
     "name": "stdin",
     "output_type": "stream",
     "text": [
      "Enter your Name: Karthik\n"
     ]
    },
    {
     "name": "stdout",
     "output_type": "stream",
     "text": [
      "Hello,  Karthik\n"
     ]
    }
   ],
   "source": [
    "name=input(\"Enter your Name:\")\n",
    "print(\"Hello, \",name)"
   ]
  },
  {
   "cell_type": "markdown",
   "id": "200d0438-55f9-4efd-9b54-a2e1f1e25724",
   "metadata": {},
   "source": [
    "Get the input value (default value is string) and convert into different data type. Also do some other task after convertion"
   ]
  },
  {
   "cell_type": "code",
   "execution_count": 39,
   "id": "684c5e16-0ce9-43e2-8fa4-219520813ab7",
   "metadata": {},
   "outputs": [
    {
     "name": "stdin",
     "output_type": "stream",
     "text": [
      "Enter Your Age: 45\n"
     ]
    },
    {
     "name": "stdout",
     "output_type": "stream",
     "text": [
      "Your current age is: 45\n",
      "Next year your age is going to be: 46 old...\n"
     ]
    }
   ],
   "source": [
    "age=int(input(\"Enter Your Age:\"))\n",
    "print(\"Your current age is:\", age)\n",
    "print(\"Next year your age is going to be:\", age+1,\"old...\")"
   ]
  },
  {
   "cell_type": "markdown",
   "id": "53b0c26d-1759-4c90-814e-c42ff64b9e34",
   "metadata": {},
   "source": [
    "Key Points:\n",
    "1. Always you should press/click 'Enter' after give the input.\n",
    "2. Always Returns String: Whatever the user inputs is returned as a string. Type conversion is necessary for other types.\n",
    "3. Handles Single Line: input() stops taking input after the user presses Enter.\n",
    "4. Errors in Conversion: \n",
    "    a. If the input cannot be converted to the desired type, then you will get a ValueError\n",
    "    b. If you miss a closed parenthesis in the convertion then you will get syntax error (Incomplete input)\n",
    "    c. If you miss a open parenthesis in the conversion then you will get syntax error (unmatched ')')"
   ]
  },
  {
   "cell_type": "code",
   "execution_count": null,
   "id": "e4e8c594-5148-44fb-a69c-a53401ba302a",
   "metadata": {},
   "outputs": [],
   "source": []
  }
 ],
 "metadata": {
  "kernelspec": {
   "display_name": "Python [conda env:base] *",
   "language": "python",
   "name": "conda-base-py"
  },
  "language_info": {
   "codemirror_mode": {
    "name": "ipython",
    "version": 3
   },
   "file_extension": ".py",
   "mimetype": "text/x-python",
   "name": "python",
   "nbconvert_exporter": "python",
   "pygments_lexer": "ipython3",
   "version": "3.12.7"
  }
 },
 "nbformat": 4,
 "nbformat_minor": 5
}
