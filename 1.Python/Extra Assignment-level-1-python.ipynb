{
 "cells": [
  {
   "cell_type": "markdown",
   "id": "92a4144c-0f5a-4e93-9b25-a353c6445cdd",
   "metadata": {},
   "source": [
    "# Q1 - print Statement"
   ]
  },
  {
   "cell_type": "code",
   "execution_count": 1,
   "id": "759b9efb-eb01-4a63-9971-5c6ea289d7e6",
   "metadata": {},
   "outputs": [
    {
     "name": "stdout",
     "output_type": "stream",
     "text": [
      "HOPE AI\n"
     ]
    }
   ],
   "source": [
    "print(\"HOPE AI\")"
   ]
  },
  {
   "cell_type": "markdown",
   "id": "f2a47495-a570-409b-ae04-221af2f03993",
   "metadata": {},
   "source": [
    "# Q2 - Get input"
   ]
  },
  {
   "cell_type": "code",
   "execution_count": 3,
   "id": "cc296c3f-4c40-4386-8e20-6ada68c0657f",
   "metadata": {},
   "outputs": [
    {
     "name": "stdin",
     "output_type": "stream",
     "text": [
      "Enter your institute name? HOPE AI\n"
     ]
    },
    {
     "name": "stdout",
     "output_type": "stream",
     "text": [
      "Your institute name: HOPE AI\n"
     ]
    }
   ],
   "source": [
    "inputString=input(\"Enter your institute name?\")\n",
    "print(\"Your institute name:\", inputString)"
   ]
  },
  {
   "cell_type": "markdown",
   "id": "3f64d86e-ebde-463f-aed8-2274b38b4852",
   "metadata": {},
   "source": [
    "# Q3 - Get inputs"
   ]
  },
  {
   "cell_type": "markdown",
   "id": "5004b5f4-7c4e-4997-84ed-51cbf30d35ea",
   "metadata": {},
   "source": [
    "input(\"Enter your name:\")\n",
    "input(\"Enter your age:\")\n",
    "input(\"Enter your school name:\")\n",
    "input(\"Enter your degree:\")"
   ]
  },
  {
   "cell_type": "markdown",
   "id": "753cc567-2f9a-4fe0-a753-572350539f7c",
   "metadata": {},
   "source": [
    "# Q4 - Addition"
   ]
  },
  {
   "cell_type": "code",
   "execution_count": 13,
   "id": "068aa1ee-9dfb-4695-8a9c-7025c0f104f0",
   "metadata": {},
   "outputs": [
    {
     "name": "stdout",
     "output_type": "stream",
     "text": [
      "a= 43\n",
      "b= 34\n",
      "add= 77\n"
     ]
    }
   ],
   "source": [
    "a=43\n",
    "b=34\n",
    "add=(a+b)\n",
    "print(\"a=\", a)\n",
    "print(\"b=\", b)\n",
    "print(\"add=\", add)"
   ]
  },
  {
   "cell_type": "markdown",
   "id": "65d4ec70-6355-4887-bf54-98c68eb8096b",
   "metadata": {},
   "source": [
    "# Q5 - Subtraction"
   ]
  },
  {
   "cell_type": "code",
   "execution_count": 33,
   "id": "2ce1bfac-a2b3-46a5-9fab-a95084750151",
   "metadata": {},
   "outputs": [
    {
     "name": "stdout",
     "output_type": "stream",
     "text": [
      "a= 43\n",
      "b= 34\n",
      "subtraction= 9\n"
     ]
    }
   ],
   "source": [
    "a=43\n",
    "b=34\n",
    "subtraction=(a-b)\n",
    "print(\"a=\", a)\n",
    "print(\"b=\", b)\n",
    "print(\"subtraction=\", subtraction)"
   ]
  },
  {
   "cell_type": "markdown",
   "id": "aa264f3a-ff60-4bde-9342-de085df014fa",
   "metadata": {},
   "source": [
    "# Q6 - Multiplication"
   ]
  },
  {
   "cell_type": "code",
   "execution_count": 42,
   "id": "7d669c3f-0c45-4ae3-b7b2-9dba2dc774e1",
   "metadata": {},
   "outputs": [
    {
     "name": "stdout",
     "output_type": "stream",
     "text": [
      "a= 63\n",
      "b= 97\n",
      "multiplication= 6111\n"
     ]
    }
   ],
   "source": [
    "a=63\n",
    "b=97\n",
    "mulitply=(a*b)\n",
    "print(\"a=\", a)\n",
    "print(\"b=\", b)\n",
    "print(\"multiplication=\", mulitply)"
   ]
  },
  {
   "cell_type": "markdown",
   "id": "44c8e0b4-aa69-46c3-9a1f-0ef6494a04e6",
   "metadata": {},
   "source": [
    "# Q7 - Float Division"
   ]
  },
  {
   "cell_type": "code",
   "execution_count": 23,
   "id": "91676bfc-6144-4d6f-a5aa-9dc4cd5a480e",
   "metadata": {},
   "outputs": [
    {
     "name": "stdout",
     "output_type": "stream",
     "text": [
      "a= 76\n",
      "b= 31\n",
      "Division= 2.4516129032258065\n",
      "Division=2.45\n"
     ]
    }
   ],
   "source": [
    "a=76\n",
    "b=31\n",
    "division=(a/b)\n",
    "print(\"a=\", a)\n",
    "print(\"b=\", b)\n",
    "print(\"Division=\", division)\n",
    "print(f\"Division={division:.2f}\")"
   ]
  },
  {
   "cell_type": "markdown",
   "id": "342a5550-081e-4062-8ab8-ce9a4e1348e9",
   "metadata": {},
   "source": [
    "# Q8 - Floor division"
   ]
  },
  {
   "cell_type": "code",
   "execution_count": 28,
   "id": "0fef7f64-9e63-48f9-9876-985694e554df",
   "metadata": {},
   "outputs": [
    {
     "name": "stdout",
     "output_type": "stream",
     "text": [
      "#Scenario 1.....\n",
      "number1= 9\n",
      "number2= 5\n",
      "Floor Division1= 1\n",
      "#Scenario 2.....\n",
      "number3= -7\n",
      "number4= 3\n",
      "Floor Division2= -3\n",
      "#Scenario 3.....\n",
      "number5= 7\n",
      "number6= -3\n",
      "Floor Division3= -3\n",
      "#Scenario 4.....\n",
      "number7= -7\n",
      "number8= -3\n",
      "Floor Division4= 2\n"
     ]
    }
   ],
   "source": [
    "#scenario 1\n",
    "number1=9\n",
    "number2=5\n",
    "floorDivision1=(number1//number2)\n",
    "print(\"#Scenario 1.....\")\n",
    "print(\"number1=\", number1)\n",
    "print(\"number2=\", number2)\n",
    "print(\"Floor Division1=\", floorDivision1)\n",
    "\n",
    "#scenario 2\n",
    "number3=-7\n",
    "number4=3\n",
    "floorDivision2=(number3//number4)\n",
    "print(\"#Scenario 2.....\")\n",
    "print(\"number3=\", number3)\n",
    "print(\"number4=\", number4)\n",
    "print(\"Floor Division2=\", floorDivision2)\n",
    "\n",
    "#scenario 3\n",
    "number5=7\n",
    "number6=-3\n",
    "floorDivision3=(number5//number6)\n",
    "print(\"#Scenario 3.....\")\n",
    "print(\"number5=\", number5)\n",
    "print(\"number6=\", number6)\n",
    "print(\"Floor Division3=\", floorDivision3)\n",
    "\n",
    "#scenario 4\n",
    "number7=-7\n",
    "number8=-3\n",
    "floorDivision4=(number7//number8)\n",
    "print(\"#Scenario 4.....\")\n",
    "print(\"number7=\", number7)\n",
    "print(\"number8=\", number8)\n",
    "print(\"Floor Division4=\", floorDivision4)"
   ]
  },
  {
   "cell_type": "markdown",
   "id": "a4dec925-cc44-4f9c-9be3-6c215c2dce9d",
   "metadata": {},
   "source": [
    "# Q9 - Modulo"
   ]
  },
  {
   "cell_type": "code",
   "execution_count": 30,
   "id": "78bf9fb2-cac4-48be-a154-9dc1681bc430",
   "metadata": {},
   "outputs": [
    {
     "name": "stdout",
     "output_type": "stream",
     "text": [
      "The modulo result: 1\n",
      "Another modulo result: 1\n"
     ]
    }
   ],
   "source": [
    "number1=-9\n",
    "number2=5\n",
    "moduloResult=number1%number2\n",
    "print(\"The modulo result:\", moduloResult)\n",
    "anotherFormula=number1-(number2 * (number1//number2))\n",
    "print(\"Another modulo result:\", anotherFormula)"
   ]
  },
  {
   "cell_type": "markdown",
   "id": "4e97d1ab-7c5d-4ca7-ab67-1c23b00b2479",
   "metadata": {},
   "source": [
    "# q10 - power"
   ]
  },
  {
   "cell_type": "code",
   "execution_count": 50,
   "id": "c01543fa-a697-46c3-af27-cfbfaa0c68ca",
   "metadata": {},
   "outputs": [
    {
     "name": "stdout",
     "output_type": "stream",
     "text": [
      "#Scenario 1.....\n",
      "number1= 2\n",
      "number2= 3\n",
      "Result 1= 8\n",
      "#Scenario 2.....\n",
      "number3= 2\n",
      "number4= -3\n",
      "Result2= 0.125\n",
      "#Scenario 3.....\n",
      "number5= 27\n",
      "number6= 0.6666666666666666\n",
      "Result3= 8.999999999999998\n",
      "#Scenario 4.....\n",
      "number7= 5\n",
      "number8= 0\n",
      "Result4= 1\n"
     ]
    }
   ],
   "source": [
    "#scenario 1\n",
    "number1=2\n",
    "number2=3\n",
    "result1=(number1**number2)\n",
    "print(\"#Scenario 1.....\")\n",
    "print(\"number1=\", number1)\n",
    "print(\"number2=\", number2)\n",
    "print(\"Result 1=\", result1)\n",
    "\n",
    "#scenario 2\n",
    "number3=2\n",
    "number4=-3\n",
    "result2=(number3**number4)\n",
    "print(\"#Scenario 2.....\")\n",
    "print(\"number3=\", number3)\n",
    "print(\"number4=\", number4)\n",
    "print(\"Result2=\", result2)\n",
    "\n",
    "#scenario 3\n",
    "number5=27\n",
    "number6=2/3\n",
    "result3=(number5**number6)\n",
    "print(\"#Scenario 3.....\")\n",
    "print(\"number5=\", number5)\n",
    "print(\"number6=\", number6)\n",
    "print(\"Result3=\", result3)\n",
    "\n",
    "#scenario 4\n",
    "number7=5\n",
    "number8=0\n",
    "result4=(number7**number8)\n",
    "print(\"#Scenario 4.....\")\n",
    "print(\"number7=\", number7)\n",
    "print(\"number8=\", number8)\n",
    "print(\"Result4=\", result4)"
   ]
  },
  {
   "cell_type": "code",
   "execution_count": null,
   "id": "14f5a631-f2be-4427-b6c9-025eeddbe7de",
   "metadata": {},
   "outputs": [],
   "source": []
  }
 ],
 "metadata": {
  "kernelspec": {
   "display_name": "Python [conda env:base] *",
   "language": "python",
   "name": "conda-base-py"
  },
  "language_info": {
   "codemirror_mode": {
    "name": "ipython",
    "version": 3
   },
   "file_extension": ".py",
   "mimetype": "text/x-python",
   "name": "python",
   "nbconvert_exporter": "python",
   "pygments_lexer": "ipython3",
   "version": "3.12.7"
  }
 },
 "nbformat": 4,
 "nbformat_minor": 5
}
