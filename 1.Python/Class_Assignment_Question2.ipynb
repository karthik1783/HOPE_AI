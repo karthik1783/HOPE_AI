{
 "cells": [
  {
   "cell_type": "code",
   "execution_count": 1,
   "id": "5f904f4f-a31b-444c-b77c-acfd274ad1c3",
   "metadata": {},
   "outputs": [
    {
     "name": "stdout",
     "output_type": "stream",
     "text": [
      "Sub-fields in AI are:\n",
      "Machine Learning\n",
      "Neural Networks\n",
      "Vision\n",
      "Robotics\n",
      "Speech Processing\n",
      "Natural Language Processing\n"
     ]
    }
   ],
   "source": [
    "from MultiFunction import SubfieldsInAI\n",
    "SubfieldsInAI.printSubList()"
   ]
  },
  {
   "cell_type": "code",
   "execution_count": 3,
   "id": "28d61506-11ce-450e-bca8-aa982c93f517",
   "metadata": {},
   "outputs": [
    {
     "name": "stdin",
     "output_type": "stream",
     "text": [
      "Enter your number: 11\n"
     ]
    },
    {
     "name": "stdout",
     "output_type": "stream",
     "text": [
      "11 is Odd number\n"
     ]
    }
   ],
   "source": [
    "from MultiFunction import FindOddOrEven\n",
    "inputNumber=int(input(\"Enter your number:\"))\n",
    "FindOddOrEven.findOddOrEven(inputNumber)"
   ]
  },
  {
   "cell_type": "code",
   "execution_count": 5,
   "id": "f0417241-19db-44bb-b47a-3f240ad16ab4",
   "metadata": {},
   "outputs": [
    {
     "name": "stdin",
     "output_type": "stream",
     "text": [
      "Enter your gender (Male/Female): Female\n",
      "Enter your age: 23\n"
     ]
    },
    {
     "name": "stdout",
     "output_type": "stream",
     "text": [
      "Eligible...\n"
     ]
    }
   ],
   "source": [
    "from MultiFunction import FindMarriageEligibility\n",
    "gender=input(\"Enter your gender (Male/Female):\")\n",
    "age=int(input(\"Enter your age:\"))\n",
    "FindMarriageEligibility.checkMarriageEligibility(gender,age)"
   ]
  },
  {
   "cell_type": "code",
   "execution_count": 7,
   "id": "730707b1-78f7-40e3-a745-77403e632a3d",
   "metadata": {},
   "outputs": [
    {
     "name": "stdout",
     "output_type": "stream",
     "text": [
      "Subject1: 98\n",
      "Subject2: 87\n",
      "Subject3: 95\n",
      "Subject4: 95\n",
      "Subject5: 93\n",
      "Percentage is: 93.6 %\n"
     ]
    }
   ],
   "source": [
    "from MultiFunction import CalculatePercentage\n",
    "markList=[98,87,95,95,93]\n",
    "for i in range(len(markList)):\n",
    "    print(f\"Subject{i+1}:\",markList[i])\n",
    "    average=CalculatePercentage.calculatePercentage(markList)\n",
    "print(f\"Percentage is:\",average,\"%\")"
   ]
  },
  {
   "cell_type": "code",
   "execution_count": 9,
   "id": "a0d71b5e-3a88-4693-a209-72147e8de1fa",
   "metadata": {},
   "outputs": [],
   "source": [
    "from triangleFormulas import CalculateTriangleFormulas"
   ]
  },
  {
   "cell_type": "code",
   "execution_count": 11,
   "id": "6728be58-f21a-4acf-9116-a8b455fb933a",
   "metadata": {},
   "outputs": [
    {
     "name": "stdin",
     "output_type": "stream",
     "text": [
      "Enter the height of the Triangle: 4\n",
      "Enter the breadth of the Triangle: 5\n"
     ]
    },
    {
     "name": "stdout",
     "output_type": "stream",
     "text": [
      "Area of the triangle is: 10.0\n"
     ]
    }
   ],
   "source": [
    "height=int(input(\"Enter the height of the Triangle:\"))\n",
    "breadth=int(input(\"Enter the breadth of the Triangle:\"))\n",
    "print(\"Area of the triangle is:\",CalculateTriangleFormulas.calculateArea(height,breadth))"
   ]
  },
  {
   "cell_type": "code",
   "execution_count": 13,
   "id": "777fc718-05bf-4fd6-b604-8607c074d509",
   "metadata": {},
   "outputs": [
    {
     "name": "stdin",
     "output_type": "stream",
     "text": [
      "Enter the height1 of the Triangle: 10\n",
      "Enter the height2 of the Triangle: 10\n",
      "Enter the breadth of the Triangle: 8\n"
     ]
    },
    {
     "name": "stdout",
     "output_type": "stream",
     "text": [
      "The perimeter of the triangle is: 28\n"
     ]
    }
   ],
   "source": [
    "height1=int(input(\"Enter the height1 of the Triangle:\"))\n",
    "height2=int(input(\"Enter the height2 of the Triangle:\"))\n",
    "breadth=int(input(\"Enter the breadth of the Triangle:\"))\n",
    "print(\"The perimeter of the triangle is:\",CalculateTriangleFormulas.calculatePerimeter(height1,height2,breadth))"
   ]
  },
  {
   "cell_type": "code",
   "execution_count": null,
   "id": "7d81dad3-1ade-4286-bb07-596e1c9999bc",
   "metadata": {},
   "outputs": [],
   "source": []
  }
 ],
 "metadata": {
  "kernelspec": {
   "display_name": "Python [conda env:base] *",
   "language": "python",
   "name": "conda-base-py"
  },
  "language_info": {
   "codemirror_mode": {
    "name": "ipython",
    "version": 3
   },
   "file_extension": ".py",
   "mimetype": "text/x-python",
   "name": "python",
   "nbconvert_exporter": "python",
   "pygments_lexer": "ipython3",
   "version": "3.12.7"
  }
 },
 "nbformat": 4,
 "nbformat_minor": 5
}
