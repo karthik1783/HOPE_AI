{
 "cells": [
  {
   "cell_type": "markdown",
   "id": "3439999a-a66b-4c75-9f24-a8469bd0c4d7",
   "metadata": {},
   "source": [
    "# Q1 - Create a class and function, and list out the items in the list"
   ]
  },
  {
   "cell_type": "code",
   "execution_count": 1,
   "id": "2dd04d77-b6da-416a-92bc-42603b442412",
   "metadata": {},
   "outputs": [],
   "source": [
    "class SubfieldsInAI():\n",
    "    def printSubList():\n",
    "        print(\"Sub-fields in AI are:\")\n",
    "        subFieldList=[\"Machine Learning\",\"Neural Networks\",\"Vision\",\"Robotics\",\"Speech Processing\",\"Natural Language Processing\"]\n",
    "        for item in subFieldList:\n",
    "            print(item)"
   ]
  },
  {
   "cell_type": "code",
   "execution_count": 3,
   "id": "912ac01f-35f8-4aa7-bca5-82443ee4485f",
   "metadata": {},
   "outputs": [
    {
     "name": "stdout",
     "output_type": "stream",
     "text": [
      "Sub-fields in AI are:\n",
      "Machine Learning\n",
      "Neural Networks\n",
      "Vision\n",
      "Robotics\n",
      "Speech Processing\n",
      "Natural Language Processing\n"
     ]
    }
   ],
   "source": [
    "SubfieldsInAI.printSubList()"
   ]
  },
  {
   "cell_type": "markdown",
   "id": "06ed0d57-21c7-4a2d-8760-b4a28e7b3af5",
   "metadata": {},
   "source": [
    "# Q2 - Create class and function that checks whether the given number is Odd or Even"
   ]
  },
  {
   "cell_type": "code",
   "execution_count": 5,
   "id": "6fb075c4-7240-4263-814c-9d5ec69348cd",
   "metadata": {},
   "outputs": [],
   "source": [
    "class FindOddOrEven():\n",
    "    def findOddOrEven(number):\n",
    "        if((number%2)!=0):\n",
    "            print(number,\"is Odd number\")\n",
    "        else:\n",
    "            print(number,\"is Even number\")"
   ]
  },
  {
   "cell_type": "code",
   "execution_count": 9,
   "id": "c21c2bfc-f10d-45d2-a003-1765303d9146",
   "metadata": {},
   "outputs": [
    {
     "name": "stdin",
     "output_type": "stream",
     "text": [
      "Enter your number: 11\n"
     ]
    },
    {
     "name": "stdout",
     "output_type": "stream",
     "text": [
      "11 is Odd number\n"
     ]
    }
   ],
   "source": [
    "inputNumber=int(input(\"Enter your number:\"))\n",
    "FindOddOrEven.findOddOrEven(inputNumber)"
   ]
  },
  {
   "cell_type": "markdown",
   "id": "9691a426-560f-42ec-a480-1910b598c1ef",
   "metadata": {},
   "source": [
    "# Q3 - Create a class and function that tells elegibility of marriage for male and female according to their \n",
    "# age limit like 21 for male and 18 for female"
   ]
  },
  {
   "cell_type": "code",
   "execution_count": 17,
   "id": "65f184de-1a8c-47ad-b89c-9edd328ffed5",
   "metadata": {},
   "outputs": [],
   "source": [
    "class FindMarriageEligibility():\n",
    "    def checkMarriageEligibility(gender,age):\n",
    "        if(gender==\"Male\"): # == operator checks with 'case sensitive'\n",
    "            if(age>=21):\n",
    "                print(\"Eligible...\")\n",
    "            else:\n",
    "                print(\"Not Eligible...\")\n",
    "        elif(gender==\"Female\"):\n",
    "            if(age>=18):\n",
    "                print(\"Eligible...\")\n",
    "            else:\n",
    "                print(\"Not Eligible...\")\n",
    "        else:\n",
    "            print(\"Either Male nor Female marriage eligibility only system checks at this moment...\")"
   ]
  },
  {
   "cell_type": "code",
   "execution_count": 15,
   "id": "7eb89b85-26a0-4564-b591-958e1971f5f7",
   "metadata": {},
   "outputs": [
    {
     "name": "stdin",
     "output_type": "stream",
     "text": [
      "Enter your gender (Male/Female): Male\n",
      "Enter your age: 27\n"
     ]
    },
    {
     "name": "stdout",
     "output_type": "stream",
     "text": [
      "Eligible...\n"
     ]
    }
   ],
   "source": [
    "gender=input(\"Enter your gender (Male/Female):\")\n",
    "age=int(input(\"Enter your age:\"))\n",
    "FindMarriageEligibility.checkMarriageEligibility(gender,age)"
   ]
  },
  {
   "cell_type": "markdown",
   "id": "5125a030-55a8-4ec5-9559-f4a8074ea121",
   "metadata": {},
   "source": [
    "# Q4 - calculate the percentage of your 10th mark by using class and function"
   ]
  },
  {
   "cell_type": "code",
   "execution_count": 19,
   "id": "c3e492c0-73a8-42eb-a263-dd815d173aca",
   "metadata": {},
   "outputs": [],
   "source": [
    "class CalculatePercentage():\n",
    "    def calculatePercentage(markList):\n",
    "        summary=int(0)\n",
    "        for mark in markList:\n",
    "            summary=summary+int(mark)\n",
    "        totalSubjects=len(markList)\n",
    "        average=(summary/totalSubjects)\n",
    "        return average"
   ]
  },
  {
   "cell_type": "code",
   "execution_count": 27,
   "id": "14163b22-7186-4855-a863-1eee98442449",
   "metadata": {},
   "outputs": [
    {
     "name": "stdout",
     "output_type": "stream",
     "text": [
      "Subject1: 98\n",
      "Subject2: 87\n",
      "Subject3: 95\n",
      "Subject4: 95\n",
      "Subject5: 93\n",
      "Percentage is: 93.6 %\n"
     ]
    }
   ],
   "source": [
    "markList=[98,87,95,95,93]\n",
    "for i in range(len(markList)):\n",
    "    print(f\"Subject{i+1}:\",markList[i])\n",
    "    average=CalculatePercentage.calculatePercentage(markList)\n",
    "print(f\"Percentage is:\",average,\"%\")"
   ]
  },
  {
   "cell_type": "markdown",
   "id": "3385a9d6-d077-4220-ad1e-614327387ee1",
   "metadata": {},
   "source": [
    "# Q5 - print area and perimeter of triangle using class and functions"
   ]
  },
  {
   "cell_type": "code",
   "execution_count": 29,
   "id": "bc1660d9-99dc-42f7-ad33-d3b2d525ccf0",
   "metadata": {},
   "outputs": [],
   "source": [
    "# I have implemented by using python library concept\n",
    "from triangleFormulas import CalculateTriangleFormulas"
   ]
  },
  {
   "cell_type": "code",
   "execution_count": 31,
   "id": "e8788e34-407f-4cf7-86d7-2405731f3c50",
   "metadata": {},
   "outputs": [
    {
     "name": "stdin",
     "output_type": "stream",
     "text": [
      "Enter the height of the Triangle: 5\n",
      "Enter the breadth of the Triangle: 4\n"
     ]
    },
    {
     "name": "stdout",
     "output_type": "stream",
     "text": [
      "Area of the triangle is: 10.0\n"
     ]
    }
   ],
   "source": [
    "height=int(input(\"Enter the height of the Triangle:\"))\n",
    "breadth=int(input(\"Enter the breadth of the Triangle:\"))\n",
    "print(\"Area of the triangle is:\",CalculateTriangleFormulas.calculateArea(height,breadth))"
   ]
  },
  {
   "cell_type": "code",
   "execution_count": 33,
   "id": "11cda2de-bfb5-43de-88f4-3cf98d77a1a1",
   "metadata": {},
   "outputs": [
    {
     "name": "stdin",
     "output_type": "stream",
     "text": [
      "Enter the height1 of the Triangle: 8\n",
      "Enter the height2 of the Triangle: 8\n",
      "Enter the breadth of the Triangle: 10\n"
     ]
    },
    {
     "name": "stdout",
     "output_type": "stream",
     "text": [
      "The perimeter of the triangle is: 26\n"
     ]
    }
   ],
   "source": [
    "height1=int(input(\"Enter the height1 of the Triangle:\"))\n",
    "height2=int(input(\"Enter the height2 of the Triangle:\"))\n",
    "breadth=int(input(\"Enter the breadth of the Triangle:\"))\n",
    "print(\"The perimeter of the triangle is:\",CalculateTriangleFormulas.calculatePerimeter(height1,height2,breadth))"
   ]
  }
 ],
 "metadata": {
  "kernelspec": {
   "display_name": "Python [conda env:base] *",
   "language": "python",
   "name": "conda-base-py"
  },
  "language_info": {
   "codemirror_mode": {
    "name": "ipython",
    "version": 3
   },
   "file_extension": ".py",
   "mimetype": "text/x-python",
   "name": "python",
   "nbconvert_exporter": "python",
   "pygments_lexer": "ipython3",
   "version": "3.12.7"
  }
 },
 "nbformat": 4,
 "nbformat_minor": 5
}
