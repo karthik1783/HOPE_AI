{
 "cells": [
  {
   "cell_type": "code",
   "execution_count": 11,
   "id": "9ab72ee1-89ef-4a36-9415-8a925e435023",
   "metadata": {},
   "outputs": [
    {
     "name": "stdout",
     "output_type": "stream",
     "text": [
      "Result: 50\n"
     ]
    }
   ],
   "source": [
    "number1=20\n",
    "number2=30\n",
    "additional=number1+number2\n",
    "print(\"Result:\",additional)"
   ]
  },
  {
   "cell_type": "code",
   "execution_count": 11,
   "id": "7b348d36-08db-48b7-9c2c-b2f6de587e4a",
   "metadata": {},
   "outputs": [
    {
     "name": "stdout",
     "output_type": "stream",
     "text": [
      "Variable1: world\n",
      "Variable2: Hello\n"
     ]
    }
   ],
   "source": [
    "variable1=\"Hello\"\n",
    "variable2=variable2\n",
    "variable1=\"world\"\n",
    "print(\"Variable1:\",variable1)\n",
    "print(\"Variable2:\",variable2)"
   ]
  },
  {
   "cell_type": "code",
   "execution_count": null,
   "id": "aa2b5db3-9ffb-4f1d-9d8c-8de4ed501c18",
   "metadata": {},
   "outputs": [],
   "source": []
  }
 ],
 "metadata": {
  "kernelspec": {
   "display_name": "Python [conda env:base] *",
   "language": "python",
   "name": "conda-base-py"
  },
  "language_info": {
   "codemirror_mode": {
    "name": "ipython",
    "version": 3
   },
   "file_extension": ".py",
   "mimetype": "text/x-python",
   "name": "python",
   "nbconvert_exporter": "python",
   "pygments_lexer": "ipython3",
   "version": "3.12.7"
  }
 },
 "nbformat": 4,
 "nbformat_minor": 5
}
